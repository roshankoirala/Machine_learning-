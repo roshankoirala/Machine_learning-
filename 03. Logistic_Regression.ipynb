{
 "cells": [
  {
   "cell_type": "markdown",
   "metadata": {},
   "source": [
    "# Introduction \n",
    "\n",
    "In the simplest version of logistic regression, a typical data looks like this: \n",
    "\n",
    "$$ X, y = \\{(x_{11}, x_{12}, ... , x_{1p}, y_1), ... .... ..., (x_{m1}, x_{m2}, ... , x_{mp}, y_m)\\} $$\n",
    "\n",
    "\n",
    "The difference with the linear regression is that the response variable $y_i$ takes the descrete values, for eg. 0 and 1. Again aim here is to fit the model and predict whether y is 0 or 1 given $X_i$ for new test set. "
   ]
  },
  {
   "cell_type": "code",
   "execution_count": 1,
   "metadata": {},
   "outputs": [
    {
     "data": {
      "text/html": [
       "<div>\n",
       "<style scoped>\n",
       "    .dataframe tbody tr th:only-of-type {\n",
       "        vertical-align: middle;\n",
       "    }\n",
       "\n",
       "    .dataframe tbody tr th {\n",
       "        vertical-align: top;\n",
       "    }\n",
       "\n",
       "    .dataframe thead th {\n",
       "        text-align: right;\n",
       "    }\n",
       "</style>\n",
       "<table border=\"1\" class=\"dataframe\">\n",
       "  <thead>\n",
       "    <tr style=\"text-align: right;\">\n",
       "      <th></th>\n",
       "      <th>Test_score_1</th>\n",
       "      <th>Test_score_2</th>\n",
       "      <th>Admitted</th>\n",
       "    </tr>\n",
       "  </thead>\n",
       "  <tbody>\n",
       "    <tr>\n",
       "      <th>37</th>\n",
       "      <td>64.176989</td>\n",
       "      <td>80.908061</td>\n",
       "      <td>1</td>\n",
       "    </tr>\n",
       "    <tr>\n",
       "      <th>50</th>\n",
       "      <td>79.944818</td>\n",
       "      <td>74.163119</td>\n",
       "      <td>1</td>\n",
       "    </tr>\n",
       "    <tr>\n",
       "      <th>45</th>\n",
       "      <td>62.222676</td>\n",
       "      <td>52.060992</td>\n",
       "      <td>0</td>\n",
       "    </tr>\n",
       "    <tr>\n",
       "      <th>41</th>\n",
       "      <td>51.547720</td>\n",
       "      <td>46.856290</td>\n",
       "      <td>0</td>\n",
       "    </tr>\n",
       "    <tr>\n",
       "      <th>89</th>\n",
       "      <td>52.348004</td>\n",
       "      <td>60.769505</td>\n",
       "      <td>0</td>\n",
       "    </tr>\n",
       "  </tbody>\n",
       "</table>\n",
       "</div>"
      ],
      "text/plain": [
       "    Test_score_1  Test_score_2  Admitted\n",
       "37     64.176989     80.908061         1\n",
       "50     79.944818     74.163119         1\n",
       "45     62.222676     52.060992         0\n",
       "41     51.547720     46.856290         0\n",
       "89     52.348004     60.769505         0"
      ]
     },
     "execution_count": 1,
     "metadata": {},
     "output_type": "execute_result"
    }
   ],
   "source": [
    "import numpy as np\n",
    "import pandas as pd\n",
    "import matplotlib.pyplot as plt\n",
    "%matplotlib inline \n",
    "\n",
    "df = pd.read_csv('Data/ex2data1.txt', header = None, \n",
    "                 names = ['Test_score_1', 'Test_score_2', 'Admitted'])\n",
    "df.sample(5)"
   ]
  },
  {
   "cell_type": "code",
   "execution_count": 2,
   "metadata": {},
   "outputs": [],
   "source": [
    "df.insert(0, 'Bias', 1)\n",
    "\n",
    "X = df.drop(['Admitted'], axis = 1)\n",
    "y = df[['Admitted']]\n",
    "m = len(y)\n",
    "\n",
    "theta = np.zeros(3)"
   ]
  },
  {
   "cell_type": "markdown",
   "metadata": {},
   "source": [
    "# Data visualization \n",
    "\n",
    "Lookig at the data we can see that there exist some boundary which well separate the two types of data. Our aim is to fins such a boundary. In our case it is straight line. "
   ]
  },
  {
   "cell_type": "code",
   "execution_count": 3,
   "metadata": {},
   "outputs": [
    {
     "data": {
      "image/png": "[encoded data removed]",
      "text/plain": [
       "<Figure size 720x432 with 1 Axes>"
      ]
     },
     "metadata": {
      "needs_background": "light"
     },
     "output_type": "display_data"
    }
   ],
   "source": [
    "import seaborn as sns\n",
    "\n",
    "plt.figure(figsize = (10, 6))\n",
    "sns.scatterplot(x ='Test_score_1', y = 'Test_score_2', hue = 'Admitted', \n",
    "                data = df, marker = '+', s = 200, palette = 'bright')\n",
    "plt.show()"
   ]
  },
  {
   "cell_type": "markdown",
   "metadata": {},
   "source": [
    "# Sigmoid function \n",
    "\n",
    "The following function is called sigmoid or sometimes logistic curve. \n",
    "\n",
    "$$ g(z)=\\frac{1}{1 + exp(-z)} $$\n",
    "\n",
    "The plot the curve is shown below: "
   ]
  },
  {
   "cell_type": "code",
   "execution_count": 4,
   "metadata": {},
   "outputs": [],
   "source": [
    "def sigmoid(Z):\n",
    "    return 1/(1 + np.exp(-Z))"
   ]
  },
  {
   "cell_type": "code",
   "execution_count": 5,
   "metadata": {},
   "outputs": [
    {
     "data": {
      "image/png": "[encoded data removed]",
      "text/plain": [
       "<Figure size 720x360 with 1 Axes>"
      ]
     },
     "metadata": {
      "needs_background": "light"
     },
     "output_type": "display_data"
    }
   ],
   "source": [
    "z_range = np.linspace(- 6, 6)\n",
    "\n",
    "plt.figure(figsize = (10, 5))\n",
    "plt.axhline(y = 0, color = '0.6')\n",
    "plt.axvline(x = 0, color = '0.6')\n",
    "plt.plot(z_range, sigmoid(z_range), color = 'r', linewidth = 2.4)\n",
    "plt.title('Sigmoid function', size = 15)\n",
    "plt.show()"
   ]
  },
  {
   "cell_type": "markdown",
   "metadata": {},
   "source": [
    "# Cost function \n",
    "\n",
    "Decision boundary when passed under the sigmoid gives the hypothesis for the logistic function:\n",
    "\n",
    "$$ h_{\\theta}(x) = g(\\theta^{T}x)$$\n",
    "\n",
    "And the cost function is given by: \n",
    "\n",
    "$$ J(\\theta) = \\frac{1}{m}\\sum_{i=1}^{m}\\big[-y^{(i)}\\, log\\,( h_\\theta\\,(x^{(i)}))-(1-y^{(i)})\\,log\\,(1-h_\\theta(x^{(i)}))\\big]$$"
   ]
  },
  {
   "cell_type": "code",
   "execution_count": 6,
   "metadata": {},
   "outputs": [],
   "source": [
    "def hypothesis(theta, X):\n",
    "    \n",
    "    Z = np.dot(X, theta)[:, np.newaxis]\n",
    "    return sigmoid(Z)"
   ]
  },
  {
   "cell_type": "code",
   "execution_count": 7,
   "metadata": {},
   "outputs": [],
   "source": [
    "def cost_function(theta, X, y):\n",
    "    \n",
    "    first_term = np.dot(np.log(hypothesis(theta, X)).flatten(), y)\n",
    "    second_term = np.dot(np.log(1 - hypothesis(theta, X)).flatten(), 1 - y)\n",
    "    \n",
    "    return - 1/m *  (first_term + second_term)[0]"
   ]
  },
  {
   "cell_type": "code",
   "execution_count": 8,
   "metadata": {},
   "outputs": [
    {
     "data": {
      "text/plain": [
       "0.6931471805599452"
      ]
     },
     "execution_count": 8,
     "metadata": {},
     "output_type": "execute_result"
    }
   ],
   "source": [
    "cost_function(theta, X, y)"
   ]
  },
  {
   "cell_type": "markdown",
   "metadata": {},
   "source": [
    "# Gradient function \n",
    "\n",
    "$$ \\frac{\\partial J}{\\partial\\theta_{j}} = \\frac{1}{m}\\sum_{i=1}^{m} ( h_\\theta (x^{(i)})-y^{(i)})x^{(i)}_{j} $$"
   ]
  },
  {
   "cell_type": "code",
   "execution_count": 9,
   "metadata": {},
   "outputs": [],
   "source": [
    "def gradient(theta, X, y):\n",
    "    \n",
    "    temp = hypothesis(theta, X) - y\n",
    "    return 1/m * np.dot(temp.transpose(), X)[0]"
   ]
  },
  {
   "cell_type": "code",
   "execution_count": 10,
   "metadata": {},
   "outputs": [
    {
     "data": {
      "text/plain": [
       "array([ -0.1       , -12.00921659, -11.26284221])"
      ]
     },
     "execution_count": 10,
     "metadata": {},
     "output_type": "execute_result"
    }
   ],
   "source": [
    "gradient(theta, X, y)"
   ]
  },
  {
   "cell_type": "markdown",
   "metadata": {},
   "source": [
    "# Scipy optimization \n",
    "\n",
    "We can minimize the cost function by using the gradient descent method. But here we use scipy's optimization method to minimize the cost function. "
   ]
  },
  {
   "cell_type": "code",
   "execution_count": 11,
   "metadata": {},
   "outputs": [
    {
     "name": "stdout",
     "output_type": "stream",
     "text": [
      "(Theta_0, Theta_1, Theta_2) : \t\t [-25.16131863   0.20623159   0.20147149]\n",
      "The minimum value of cost function: \t 0.2034977015894746\n"
     ]
    }
   ],
   "source": [
    "import scipy.optimize as opt\n",
    "\n",
    "min_at = opt.fmin_tnc(func = cost_function, x0 = theta, fprime = gradient, args = (X, y))[0]\n",
    "\n",
    "print('(Theta_0, Theta_1, Theta_2) : \\t\\t', min_at)\n",
    "print('The minimum value of cost function: \\t', cost_function(min_at, X, y))"
   ]
  },
  {
   "cell_type": "markdown",
   "metadata": {},
   "source": [
    "# Decision boundary \n",
    "\n",
    "The equation for the decision boundary is: \n",
    "\n",
    "$$ \\theta_0 + X_1 \\theta_1 + X_2 \\theta_2 = 0$$\n",
    "\n",
    "given set of $X_1$ we can find $X_2$ using the following equation: \n",
    "\n",
    "$$ X_2 = - \\frac{\\theta_0 + \\theta_1 X_1}{\\theta_2} $$"
   ]
  },
  {
   "cell_type": "code",
   "execution_count": 12,
   "metadata": {},
   "outputs": [
    {
     "data": {
      "image/png": "[encoded data removed]",
      "text/plain": [
       "<Figure size 720x432 with 1 Axes>"
      ]
     },
     "metadata": {
      "needs_background": "light"
     },
     "output_type": "display_data"
    }
   ],
   "source": [
    "X1_range = [30, 90]\n",
    "X2_range = -1/min_at[2] * (min_at[0] + np.dot(min_at[1], X1_range))\n",
    "\n",
    "plt.figure(figsize = (10, 6))\n",
    "sns.scatterplot(x ='Test_score_1', y = 'Test_score_2', hue = 'Admitted', \n",
    "                data = df, marker = '+', s = 200, palette = 'bright')\n",
    "\n",
    "plt.plot(X1_range, X2_range, 'k',  linewidth = 2)\n",
    "plt.show()"
   ]
  },
  {
   "cell_type": "markdown",
   "metadata": {},
   "source": [
    "# Performance of classifier \n",
    "\n",
    "In the following we show that the logistic regression classifier is correctly predicting 89% y's in training set. Once again, this does not mean it will classify 89% data correctly on the date it has not seen. "
   ]
  },
  {
   "cell_type": "code",
   "execution_count": 13,
   "metadata": {},
   "outputs": [
    {
     "name": "stdout",
     "output_type": "stream",
     "text": [
      "Percentange of mis-classification : \t Admitted    11\n",
      "dtype: int64 %\n",
      "Percentage predicted accurately : \t Admitted    89\n",
      "dtype: int64 %\n"
     ]
    }
   ],
   "source": [
    "def mis_classification(X, y, theta, cutoff):\n",
    "    pred = hypothesis(theta, X) < cutoff\n",
    "    return np.sum(pred == y)\n",
    "\n",
    "\n",
    "print('Percentange of mis-classification : \\t', mis_classification(X, y, min_at, 0.5), '%')\n",
    "print('Percentage predicted accurately : \\t', 100- mis_classification(X, y, min_at, 0.5), '%')"
   ]
  },
  {
   "cell_type": "markdown",
   "metadata": {},
   "source": [
    "# Using scikit-learn \n",
    "\n",
    "Here we use scikit-learn LogisticRegression to solve the same problem. The default solver 'liblinear' performs poorly on this case. So, I have choosen solver = 'newton-cg'. Which performs similar to the previous one. "
   ]
  },
  {
   "cell_type": "code",
   "execution_count": 14,
   "metadata": {},
   "outputs": [],
   "source": [
    "from sklearn.linear_model import LogisticRegression"
   ]
  },
  {
   "cell_type": "code",
   "execution_count": 15,
   "metadata": {},
   "outputs": [],
   "source": [
    "model = LogisticRegression(solver = 'newton-cg')"
   ]
  },
  {
   "cell_type": "code",
   "execution_count": 16,
   "metadata": {},
   "outputs": [
    {
     "name": "stdout",
     "output_type": "stream",
     "text": [
      "[[0.2053533  0.20058239]]\n",
      "[-25.05200379]\n"
     ]
    }
   ],
   "source": [
    "X = df[['Test_score_1', 'Test_score_2']]\n",
    "y = df['Admitted']\n",
    "\n",
    "model.fit(X, y)\n",
    "\n",
    "print(model.coef_)\n",
    "print(model.intercept_)"
   ]
  },
  {
   "cell_type": "code",
   "execution_count": 17,
   "metadata": {},
   "outputs": [
    {
     "name": "stdout",
     "output_type": "stream",
     "text": [
      "Accuracy score : \t 0.89\n",
      "R squared : \t \t 0.5416666666666667\n"
     ]
    }
   ],
   "source": [
    "from sklearn.metrics import accuracy_score, r2_score\n",
    "\n",
    "y_pred = model.predict(X)\n",
    "\n",
    "print('Accuracy score : \\t', accuracy_score(y, y_pred))\n",
    "print('R squared : \\t \\t', r2_score(y, y_pred))"
   ]
  },
  {
   "cell_type": "markdown",
   "metadata": {},
   "source": [
    "# Decision boundary\n",
    "\n",
    "The coefficient looks different than the previous one. But the ratio of the coefficients is still the same. Which in turn gives the same boundary line. "
   ]
  },
  {
   "cell_type": "code",
   "execution_count": 18,
   "metadata": {},
   "outputs": [
    {
     "data": {
      "image/png": "[encoded data removed]",
      "text/plain": [
       "<Figure size 720x432 with 1 Axes>"
      ]
     },
     "metadata": {
      "needs_background": "light"
     },
     "output_type": "display_data"
    }
   ],
   "source": [
    "X1_range = [30, 90]\n",
    "X2_range = - 1/model.coef_[0, 1] * (model.intercept_[0] + np.dot(model.coef_[0, 0], X1_range))\n",
    "\n",
    "plt.figure(figsize = (10, 6))\n",
    "sns.scatterplot(x ='Test_score_1', y = 'Test_score_2', hue = 'Admitted', \n",
    "                data = df, marker = '+', s = 200, palette = 'bright')\n",
    "\n",
    "plt.plot(X1_range, X2_range, 'k',  linewidth = 2)\n",
    "plt.show()"
   ]
  },
  {
   "cell_type": "markdown",
   "metadata": {},
   "source": [
    "# Statsmodels\n",
    "\n",
    "Finally, statsmodels also can be used to solve the logistic regression problem. The coefficients are same in this solution as well as expected. "
   ]
  },
  {
   "cell_type": "code",
   "execution_count": 19,
   "metadata": {},
   "outputs": [
    {
     "name": "stdout",
     "output_type": "stream",
     "text": [
      "Optimization terminated successfully.\n",
      "         Current function value: 0.203498\n",
      "         Iterations 9\n"
     ]
    },
    {
     "data": {
      "text/html": [
       "<table class=\"simpletable\">\n",
       "<caption>Logit Regression Results</caption>\n",
       "<tr>\n",
       "  <th>Dep. Variable:</th>       <td>Admitted</td>     <th>  No. Observations:  </th>  <td>   100</td>  \n",
       "</tr>\n",
       "<tr>\n",
       "  <th>Model:</th>                 <td>Logit</td>      <th>  Df Residuals:      </th>  <td>    97</td>  \n",
       "</tr>\n",
       "<tr>\n",
       "  <th>Method:</th>                 <td>MLE</td>       <th>  Df Model:          </th>  <td>     2</td>  \n",
       "</tr>\n",
       "<tr>\n",
       "  <th>Date:</th>            <td>Sun, 08 Nov 2020</td> <th>  Pseudo R-squ.:     </th>  <td>0.6976</td>  \n",
       "</tr>\n",
       "<tr>\n",
       "  <th>Time:</th>                <td>19:33:45</td>     <th>  Log-Likelihood:    </th> <td> -20.350</td> \n",
       "</tr>\n",
       "<tr>\n",
       "  <th>converged:</th>             <td>True</td>       <th>  LL-Null:           </th> <td> -67.301</td> \n",
       "</tr>\n",
       "<tr>\n",
       "  <th>Covariance Type:</th>     <td>nonrobust</td>    <th>  LLR p-value:       </th> <td>4.067e-21</td>\n",
       "</tr>\n",
       "</table>\n",
       "<table class=\"simpletable\">\n",
       "<tr>\n",
       "        <td></td>          <th>coef</th>     <th>std err</th>      <th>z</th>      <th>P>|z|</th>  <th>[0.025</th>    <th>0.975]</th>  \n",
       "</tr>\n",
       "<tr>\n",
       "  <th>Intercept</th>    <td>  -25.1613</td> <td>    5.799</td> <td>   -4.339</td> <td> 0.000</td> <td>  -36.526</td> <td>  -13.796</td>\n",
       "</tr>\n",
       "<tr>\n",
       "  <th>Test_score_1</th> <td>    0.2062</td> <td>    0.048</td> <td>    4.296</td> <td> 0.000</td> <td>    0.112</td> <td>    0.300</td>\n",
       "</tr>\n",
       "<tr>\n",
       "  <th>Test_score_2</th> <td>    0.2015</td> <td>    0.049</td> <td>    4.143</td> <td> 0.000</td> <td>    0.106</td> <td>    0.297</td>\n",
       "</tr>\n",
       "</table>"
      ],
      "text/plain": [
       "<class 'statsmodels.iolib.summary.Summary'>\n",
       "\"\"\"\n",
       "                           Logit Regression Results                           \n",
       "==============================================================================\n",
       "Dep. Variable:               Admitted   No. Observations:                  100\n",
       "Model:                          Logit   Df Residuals:                       97\n",
       "Method:                           MLE   Df Model:                            2\n",
       "Date:                Sun, 08 Nov 2020   Pseudo R-squ.:                  0.6976\n",
       "Time:                        19:33:45   Log-Likelihood:                -20.350\n",
       "converged:                       True   LL-Null:                       -67.301\n",
       "Covariance Type:            nonrobust   LLR p-value:                 4.067e-21\n",
       "================================================================================\n",
       "                   coef    std err          z      P>|z|      [0.025      0.975]\n",
       "--------------------------------------------------------------------------------\n",
       "Intercept      -25.1613      5.799     -4.339      0.000     -36.526     -13.796\n",
       "Test_score_1     0.2062      0.048      4.296      0.000       0.112       0.300\n",
       "Test_score_2     0.2015      0.049      4.143      0.000       0.106       0.297\n",
       "================================================================================\n",
       "\"\"\""
      ]
     },
     "execution_count": 19,
     "metadata": {},
     "output_type": "execute_result"
    }
   ],
   "source": [
    "import statsmodels.formula.api as smf\n",
    "\n",
    "results = smf.logit('Admitted ~ Test_score_1 + Test_score_2', data = df).fit()\n",
    "results.summary()"
   ]
  },
  {
   "cell_type": "code",
   "execution_count": null,
   "metadata": {},
   "outputs": [],
   "source": []
  },
  {
   "cell_type": "code",
   "execution_count": null,
   "metadata": {},
   "outputs": [],
   "source": []
  }
 ],
 "metadata": {
  "kernelspec": {
   "display_name": "Python 3",
   "language": "python",
   "name": "python3"
  },
  "language_info": {
   "codemirror_mode": {
    "name": "ipython",
    "version": 3
   },
   "file_extension": ".py",
   "mimetype": "text/x-python",
   "name": "python",
   "nbconvert_exporter": "python",
   "pygments_lexer": "ipython3",
   "version": "3.7.10"
  }
 },
 "nbformat": 4,
 "nbformat_minor": 2
}
