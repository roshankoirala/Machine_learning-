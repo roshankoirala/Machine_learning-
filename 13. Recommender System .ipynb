{
 "cells": [
  {
   "cell_type": "code",
   "execution_count": 1,
   "id": "8bbe9872",
   "metadata": {},
   "outputs": [],
   "source": [
    "import numpy as np\n",
    "import pandas as pd\n",
    "import matplotlib.pyplot as plt\n",
    "from scipy.io import loadmat"
   ]
  },
  {
   "cell_type": "markdown",
   "id": "2bb37616",
   "metadata": {},
   "source": [
    "# Load Movie Data "
   ]
  },
  {
   "cell_type": "code",
   "execution_count": 2,
   "id": "c84b43b8",
   "metadata": {},
   "outputs": [],
   "source": [
    "mat = loadmat('Data/ex8_movies.mat')\n",
    "Y = mat['Y']\n",
    "R = mat['R']"
   ]
  },
  {
   "cell_type": "code",
   "execution_count": 3,
   "id": "6672ad41",
   "metadata": {},
   "outputs": [
    {
     "name": "stdout",
     "output_type": "stream",
     "text": [
      "Average rating of the first movie: 4.52067868504772\n"
     ]
    }
   ],
   "source": [
    "print('Average rating of the first movie: {}'.format(np.mean(Y[0, R[0]])))"
   ]
  },
  {
   "cell_type": "code",
   "execution_count": 4,
   "id": "d8a231cd",
   "metadata": {},
   "outputs": [],
   "source": [
    "mat2 = loadmat('Data/ex8_movieParams.mat')\n",
    "X = mat2['X']\n",
    "theta = mat2['Theta']"
   ]
  },
  {
   "cell_type": "markdown",
   "id": "2c14fe7c",
   "metadata": {},
   "source": [
    "# Small Sample Data "
   ]
  },
  {
   "cell_type": "code",
   "execution_count": 5,
   "id": "da67e83a",
   "metadata": {},
   "outputs": [],
   "source": [
    "num_users = 4\n",
    "num_movies = 5\n",
    "num_features = 3"
   ]
  },
  {
   "cell_type": "code",
   "execution_count": 6,
   "id": "07774746",
   "metadata": {},
   "outputs": [],
   "source": [
    "X_s = X[:num_movies, :num_features]\n",
    "theta_s = theta[:num_users, :num_features]\n",
    "Y_s = Y[:num_movies, :num_users]\n",
    "R_s = R[:num_movies, :num_users]"
   ]
  },
  {
   "cell_type": "markdown",
   "id": "e5b042fe",
   "metadata": {},
   "source": [
    "# Cost, Gradient & Regularization "
   ]
  },
  {
   "cell_type": "code",
   "execution_count": 7,
   "id": "b55d2bed",
   "metadata": {},
   "outputs": [],
   "source": [
    "def cost_function(X, Y, R, theta, lmbd=0):\n",
    "    J_ij = Y - np.dot(X, theta.T)\n",
    "    J_ij_rated = np.multiply(R, J_ij**2)\n",
    "    \n",
    "    # cost function \n",
    "    J = np.sum(J_ij_rated)/2\n",
    "    \n",
    "    # gradient \n",
    "    X_grad = np.matmul(J_ij_rated, theta)\n",
    "    theta_grad = np.matmul(X.T, J_ij_rated).T  \n",
    "    \n",
    "    # regularization of cost function \n",
    "    J_reg = np.sum(np.multiply(X, X)) + np.sum(np.multiply(theta, theta))\n",
    "    J_tot = J + (lmbd/2) * J_reg\n",
    "    \n",
    "    # regularization of gradients \n",
    "    X_grad_reg = X_grad + (lmbd/2) * X \n",
    "    theta_grad_reg = theta_grad + (lmbd/2) * theta\n",
    "    \n",
    "    return J_tot, X_grad_reg, theta_grad_reg"
   ]
  },
  {
   "cell_type": "code",
   "execution_count": 8,
   "id": "5b27134e",
   "metadata": {},
   "outputs": [
    {
     "data": {
      "text/plain": [
       "(22.224603725685675,\n",
       " array([[  8.20892934, -27.06295833,   6.31125296],\n",
       "        [  1.13103477,  -6.67369063,   1.04186212],\n",
       "        [  2.42745536, -14.32324317,   2.23607076],\n",
       "        [  0.51546346,  -3.04150121,   0.47482346],\n",
       "        [  2.26336254, -13.35501059,   2.08491529]]),\n",
       " array([[ 31.25698589, -12.30737457,  21.91029487],\n",
       "        [  8.87638892,  -3.38768347,  10.10738551],\n",
       "        [  0.        ,   0.        ,   0.        ],\n",
       "        [  0.        ,   0.        ,   0.        ]]))"
      ]
     },
     "execution_count": 8,
     "metadata": {},
     "output_type": "execute_result"
    }
   ],
   "source": [
    "# Without regularization \n",
    "cost_function(X_s, Y_s, R_s, theta_s)"
   ]
  },
  {
   "cell_type": "code",
   "execution_count": 9,
   "id": "249ebc07",
   "metadata": {},
   "outputs": [
    {
     "data": {
      "text/plain": [
       "(31.34405624427422,\n",
       " array([[  8.99544347, -27.3631323 ,   7.20684254],\n",
       "        [  1.7166732 ,  -6.96291006,   1.43276046],\n",
       "        [  2.90858701, -14.73413356,   2.17322348],\n",
       "        [  0.85567683,  -3.64166504,   0.98518443],\n",
       "        [  2.96651596, -13.27544317,   2.35638001]]),\n",
       " array([[ 31.4710686 , -13.57057338,  22.10749894],\n",
       "        [  9.25514883,  -3.72866981,  10.34548234],\n",
       "        [ -0.32393742,  -0.35910337,   0.63503333],\n",
       "        [  0.54644879,  -0.20392043,   0.2451327 ]]))"
      ]
     },
     "execution_count": 9,
     "metadata": {},
     "output_type": "execute_result"
    }
   ],
   "source": [
    "# With regularization \n",
    "cost_function(X_s, Y_s, R_s, theta_s, lmbd=1.5)"
   ]
  },
  {
   "cell_type": "markdown",
   "id": "ebc2f412",
   "metadata": {},
   "source": [
    "# Loading Movies Names "
   ]
  },
  {
   "cell_type": "code",
   "execution_count": 10,
   "id": "587f02d5",
   "metadata": {},
   "outputs": [],
   "source": [
    "with open('Data/movie_ids.txt') as file: \n",
    "    fid = file.read()\n",
    "    \n",
    "fid = fid.split('\\n')[:-1]"
   ]
  },
  {
   "cell_type": "code",
   "execution_count": 11,
   "id": "9e3f06d5",
   "metadata": {},
   "outputs": [
    {
     "data": {
      "text/html": [
       "<div>\n",
       "<style scoped>\n",
       "    .dataframe tbody tr th:only-of-type {\n",
       "        vertical-align: middle;\n",
       "    }\n",
       "\n",
       "    .dataframe tbody tr th {\n",
       "        vertical-align: top;\n",
       "    }\n",
       "\n",
       "    .dataframe thead th {\n",
       "        text-align: right;\n",
       "    }\n",
       "</style>\n",
       "<table border=\"1\" class=\"dataframe\">\n",
       "  <thead>\n",
       "    <tr style=\"text-align: right;\">\n",
       "      <th></th>\n",
       "      <th>Movie</th>\n",
       "    </tr>\n",
       "    <tr>\n",
       "      <th>Index</th>\n",
       "      <th></th>\n",
       "    </tr>\n",
       "  </thead>\n",
       "  <tbody>\n",
       "    <tr>\n",
       "      <th>1265</th>\n",
       "      <td>Star Maps (1997)</td>\n",
       "    </tr>\n",
       "    <tr>\n",
       "      <th>216</th>\n",
       "      <td>When Harry Met Sally... (1989)</td>\n",
       "    </tr>\n",
       "    <tr>\n",
       "      <th>830</th>\n",
       "      <td>Power 98 (1995)</td>\n",
       "    </tr>\n",
       "    <tr>\n",
       "      <th>1158</th>\n",
       "      <td>Fille seule, La (A Single Girl) (1995)</td>\n",
       "    </tr>\n",
       "    <tr>\n",
       "      <th>18</th>\n",
       "      <td>White Balloon, The (1995)</td>\n",
       "    </tr>\n",
       "  </tbody>\n",
       "</table>\n",
       "</div>"
      ],
      "text/plain": [
       "                                        Movie\n",
       "Index                                        \n",
       "1265                         Star Maps (1997)\n",
       "216            When Harry Met Sally... (1989)\n",
       "830                           Power 98 (1995)\n",
       "1158   Fille seule, La (A Single Girl) (1995)\n",
       "18                  White Balloon, The (1995)"
      ]
     },
     "execution_count": 11,
     "metadata": {},
     "output_type": "execute_result"
    }
   ],
   "source": [
    "movie_list = [text.split(' ', 1) for text in fid]\n",
    "movie_list = pd.DataFrame(movie_list, \n",
    "                          columns=['Index', 'Movie']).set_index('Index')\n",
    "movie_list.sample(5)"
   ]
  },
  {
   "cell_type": "markdown",
   "id": "e8dcafe0",
   "metadata": {},
   "source": [
    "# My Ratings "
   ]
  },
  {
   "cell_type": "code",
   "execution_count": 12,
   "id": "3414f8ee",
   "metadata": {},
   "outputs": [
    {
     "data": {
      "text/plain": [
       "array([0., 0., 0., ..., 0., 0., 0.])"
      ]
     },
     "execution_count": 12,
     "metadata": {},
     "output_type": "execute_result"
    }
   ],
   "source": [
    "my_ratings = np.zeros(len(fid))\n",
    "\n",
    "my_ratings[7] = 3\n",
    "my_ratings[12] = 5\n",
    "my_ratings[54] = 4\n",
    "my_ratings[64] = 5\n",
    "my_ratings[66] = 3\n",
    "my_ratings[69] = 5\n",
    "my_ratings[183] = 4\n",
    "my_ratings[226] = 5\n",
    "my_ratings[355] = 5\n",
    "\n",
    "my_ratings"
   ]
  },
  {
   "cell_type": "code",
   "execution_count": 13,
   "id": "b5ad32dc",
   "metadata": {},
   "outputs": [
    {
     "data": {
      "text/html": [
       "<div>\n",
       "<style scoped>\n",
       "    .dataframe tbody tr th:only-of-type {\n",
       "        vertical-align: middle;\n",
       "    }\n",
       "\n",
       "    .dataframe tbody tr th {\n",
       "        vertical-align: top;\n",
       "    }\n",
       "\n",
       "    .dataframe thead th {\n",
       "        text-align: right;\n",
       "    }\n",
       "</style>\n",
       "<table border=\"1\" class=\"dataframe\">\n",
       "  <thead>\n",
       "    <tr style=\"text-align: right;\">\n",
       "      <th></th>\n",
       "      <th>Movie</th>\n",
       "    </tr>\n",
       "    <tr>\n",
       "      <th>Index</th>\n",
       "      <th></th>\n",
       "    </tr>\n",
       "  </thead>\n",
       "  <tbody>\n",
       "    <tr>\n",
       "      <th>8</th>\n",
       "      <td>Babe (1995)</td>\n",
       "    </tr>\n",
       "    <tr>\n",
       "      <th>13</th>\n",
       "      <td>Mighty Aphrodite (1995)</td>\n",
       "    </tr>\n",
       "    <tr>\n",
       "      <th>55</th>\n",
       "      <td>Professional, The (1994)</td>\n",
       "    </tr>\n",
       "    <tr>\n",
       "      <th>65</th>\n",
       "      <td>What's Eating Gilbert Grape (1993)</td>\n",
       "    </tr>\n",
       "    <tr>\n",
       "      <th>67</th>\n",
       "      <td>Ace Ventura: Pet Detective (1994)</td>\n",
       "    </tr>\n",
       "    <tr>\n",
       "      <th>70</th>\n",
       "      <td>Four Weddings and a Funeral (1994)</td>\n",
       "    </tr>\n",
       "    <tr>\n",
       "      <th>184</th>\n",
       "      <td>Army of Darkness (1993)</td>\n",
       "    </tr>\n",
       "    <tr>\n",
       "      <th>227</th>\n",
       "      <td>Star Trek VI: The Undiscovered Country (1991)</td>\n",
       "    </tr>\n",
       "    <tr>\n",
       "      <th>356</th>\n",
       "      <td>Client, The (1994)</td>\n",
       "    </tr>\n",
       "  </tbody>\n",
       "</table>\n",
       "</div>"
      ],
      "text/plain": [
       "                                               Movie\n",
       "Index                                               \n",
       "8                                        Babe (1995)\n",
       "13                           Mighty Aphrodite (1995)\n",
       "55                          Professional, The (1994)\n",
       "65                What's Eating Gilbert Grape (1993)\n",
       "67                 Ace Ventura: Pet Detective (1994)\n",
       "70                Four Weddings and a Funeral (1994)\n",
       "184                          Army of Darkness (1993)\n",
       "227    Star Trek VI: The Undiscovered Country (1991)\n",
       "356                               Client, The (1994)"
      ]
     },
     "execution_count": 13,
     "metadata": {},
     "output_type": "execute_result"
    }
   ],
   "source": [
    "movie_list[my_ratings.astype('bool')]"
   ]
  },
  {
   "cell_type": "markdown",
   "id": "680c0449",
   "metadata": {},
   "source": [
    "# My Recommendations "
   ]
  },
  {
   "cell_type": "code",
   "execution_count": null,
   "id": "06980b3d",
   "metadata": {},
   "outputs": [],
   "source": []
  }
 ],
 "metadata": {
  "kernelspec": {
   "display_name": "Python 3",
   "language": "python",
   "name": "python3"
  },
  "language_info": {
   "codemirror_mode": {
    "name": "ipython",
    "version": 3
   },
   "file_extension": ".py",
   "mimetype": "text/x-python",
   "name": "python",
   "nbconvert_exporter": "python",
   "pygments_lexer": "ipython3",
   "version": "3.7.10"
  }
 },
 "nbformat": 4,
 "nbformat_minor": 5
}
