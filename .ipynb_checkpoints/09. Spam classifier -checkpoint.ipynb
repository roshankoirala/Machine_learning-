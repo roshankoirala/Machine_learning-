{
 "cells": [
  {
   "cell_type": "code",
   "execution_count": 1,
   "metadata": {},
   "outputs": [],
   "source": [
    "import re\n",
    "import numpy as np\n",
    "import pandas as pd\n",
    "from scipy.io import loadmat\n",
    "from sklearn.svm import SVC\n",
    "\n",
    "from nltk.stem import PorterStemmer"
   ]
  },
  {
   "cell_type": "markdown",
   "metadata": {},
   "source": [
    "# Reading Data  "
   ]
  },
  {
   "cell_type": "code",
   "execution_count": 2,
   "metadata": {},
   "outputs": [],
   "source": [
    "spam_train = loadmat('Data/spamTrain.mat')\n",
    "spam_test = loadmat('Data/spamTest.mat')\n",
    "\n",
    "X_train, y_train = spam_train['X'], spam_train['y']\n",
    "X_test, y_test = spam_test['Xtest'], spam_test['ytest']\n",
    "\n",
    "email_sample = open('Data/emailSample1.txt').read()\n",
    "spam_sample = open('Data/spamSample1.txt').read()\n",
    "\n",
    "vocab_list = open('Data/vocab.txt').read()"
   ]
  },
  {
   "cell_type": "markdown",
   "metadata": {},
   "source": [
    "# Preparing Vocabulary"
   ]
  },
  {
   "cell_type": "code",
   "execution_count": 3,
   "metadata": {},
   "outputs": [],
   "source": [
    "vocab_list = vocab_list.split('\\n')[:-1]\n",
    "\n",
    "vocab_dic = {}\n",
    "for i in vocab_list:\n",
    "    value, key = i.split('\\t')\n",
    "    vocab_dic[key] = value"
   ]
  },
  {
   "cell_type": "code",
   "execution_count": 4,
   "metadata": {},
   "outputs": [
    {
     "data": {
      "text/plain": [
       "[{'1084', 'my'},\n",
       " {'530', 'email'},\n",
       " {'25', 'address'},\n",
       " {'877', 'is'},\n",
       " {'1113', 'not'},\n",
       " {'775', 'here'}]"
      ]
     },
     "execution_count": 4,
     "metadata": {},
     "output_type": "execute_result"
    }
   ],
   "source": [
    "sample_words = ['my', 'email', 'address', 'is', 'not', 'here']\n",
    "[{k, vocab_dic[k]} for k in sample_words]"
   ]
  },
  {
   "cell_type": "markdown",
   "metadata": {},
   "source": [
    "# Preprocessing emails "
   ]
  },
  {
   "cell_type": "code",
   "execution_count": 5,
   "metadata": {},
   "outputs": [],
   "source": [
    "stemmer = PorterStemmer()"
   ]
  },
  {
   "cell_type": "code",
   "execution_count": 6,
   "metadata": {},
   "outputs": [],
   "source": [
    "def process_email(email_sample, vocab_dic):\n",
    "\n",
    "    # Lower case \n",
    "    email_sample = email_sample.lower()\n",
    "    \n",
    "    # Replace numbers \n",
    "    email_sample = re.sub('[0 - 9] + ', 'number', email_sample)\n",
    "    \n",
    "    # Replace urls \n",
    "    email_sample = re.sub('[https|http]://[^\\s]*', 'httpaddr', email_sample)\n",
    "    \n",
    "    # Replace email address \n",
    "    email_sample = re.sub('[^\\s]+@[^\\s]+', 'emailaddr', email_sample)\n",
    "    \n",
    "    # Replace dollar sign \n",
    "    email_sample = re.sub('[$]+', 'dollar', email_sample)\n",
    "    \n",
    "    # Replace everything else \n",
    "    email_sample = re.sub('[^a-zA-Z\\d\\s]', '', email_sample)\n",
    "\n",
    "    # Stemming  \n",
    "    email_sample = [stemmer.stem(i) for i in email_sample.split(' ')]\n",
    "\n",
    "    word_freq = []\n",
    "\n",
    "    for word in email_sample:\n",
    "        if len(word) > 1 and word in vocab_dic:\n",
    "            word_freq.append(int(vocab_dic[word]))\n",
    "\n",
    "    return word_freq"
   ]
  },
  {
   "cell_type": "code",
   "execution_count": 7,
   "metadata": {},
   "outputs": [
    {
     "name": "stdout",
     "output_type": "stream",
     "text": [
      "> Anyone knows how much it costs to host a web portal ?\n",
      ">\n",
      "Well, it depends on how many visitors you're expecting.\n",
      "This can be anywhere from less than 10 bucks a month to a couple of $100. \n",
      "You should checkout http://www.rackspace.com/ or perhaps Amazon EC2 \n",
      "if youre running something big..\n",
      "\n",
      "To unsubscribe yourself from this mailing list, send an email to:\n",
      "groupname-unsubscribe@egroups.com\n",
      "\n",
      "\n",
      "[86, 916, 794, 1077, 883, 370, 1699, 790, 1822, 883, 431, 1171, 794, 1002, 1895, 238, 162, 89, 688, 945, 1663, 1062, 1699, 375, 1162, 1510, 1182, 1237, 1895, 1440, 1547, 1758, 1896, 688, 1676, 992, 961, 1477, 71, 530]\n"
     ]
    }
   ],
   "source": [
    "print(email_sample)\n",
    "print(process_email(email_sample, vocab_dic))"
   ]
  },
  {
   "cell_type": "markdown",
   "metadata": {},
   "source": [
    "# Extracting features from email"
   ]
  },
  {
   "cell_type": "code",
   "execution_count": 8,
   "metadata": {},
   "outputs": [],
   "source": [
    "def email_features(email_sample, vocab_dic):\n",
    "    \n",
    "    features = np.zeros((len(vocab_dic), 1))\n",
    "    word_freq = process_email(email_sample, vocab_dic)\n",
    "    for i in word_freq:\n",
    "        features[i] = 1\n",
    "    return features"
   ]
  },
  {
   "cell_type": "code",
   "execution_count": 9,
   "metadata": {},
   "outputs": [
    {
     "name": "stdout",
     "output_type": "stream",
     "text": [
      "Length of feature vector: \t 1899\n",
      "Number of non-zero entries: \t 35.0\n"
     ]
    }
   ],
   "source": [
    "feature_samp_1 = email_features(email_sample, vocab_dic)\n",
    "\n",
    "print('Length of feature vector: \\t', len(feature_samp_1))\n",
    "print('Number of non-zero entries: \\t', feature_samp_1.sum())"
   ]
  },
  {
   "cell_type": "code",
   "execution_count": 10,
   "metadata": {},
   "outputs": [
    {
     "name": "stdout",
     "output_type": "stream",
     "text": [
      "Length of feature vector: \t 1899\n",
      "Number of non-zero entries: \t 42.0\n"
     ]
    }
   ],
   "source": [
    "feature_samp_2 = email_features(spam_sample, vocab_dic)\n",
    "\n",
    "print('Length of feature vector: \\t', len(feature_samp_2))\n",
    "print('Number of non-zero entries: \\t', feature_samp_2.sum())"
   ]
  },
  {
   "cell_type": "markdown",
   "metadata": {},
   "source": [
    "# Training SVM \n"
   ]
  },
  {
   "cell_type": "code",
   "execution_count": 11,
   "metadata": {},
   "outputs": [
    {
     "name": "stdout",
     "output_type": "stream",
     "text": [
      "Training Accuracy: \t 99.9 %\n",
      "Test Accuracy: \t\t 98.6 %\n"
     ]
    }
   ],
   "source": [
    "model = SVC(C = 0.12, kernel = 'linear')\n",
    "model.fit(X_train, y_train.ravel())\n",
    "\n",
    "print('Training Accuracy: \\t {} %'.format(model.score(X_train, y_train) * 100))\n",
    "print('Test Accuracy: \\t\\t {} %'.format(model.score(X_test, y_test) * 100))"
   ]
  },
  {
   "cell_type": "markdown",
   "metadata": {},
   "source": [
    "# Top predictor of spam "
   ]
  },
  {
   "cell_type": "code",
   "execution_count": 12,
   "metadata": {},
   "outputs": [
    {
     "data": {
      "text/html": [
       "<div>\n",
       "<style scoped>\n",
       "    .dataframe tbody tr th:only-of-type {\n",
       "        vertical-align: middle;\n",
       "    }\n",
       "\n",
       "    .dataframe tbody tr th {\n",
       "        vertical-align: top;\n",
       "    }\n",
       "\n",
       "    .dataframe thead th {\n",
       "        text-align: right;\n",
       "    }\n",
       "</style>\n",
       "<table border=\"1\" class=\"dataframe\">\n",
       "  <thead>\n",
       "    <tr style=\"text-align: right;\">\n",
       "      <th></th>\n",
       "      <th>Word</th>\n",
       "      <th>Weight</th>\n",
       "    </tr>\n",
       "  </thead>\n",
       "  <tbody>\n",
       "    <tr>\n",
       "      <th>1191</th>\n",
       "      <td>our</td>\n",
       "      <td>0.519944</td>\n",
       "    </tr>\n",
       "    <tr>\n",
       "      <th>298</th>\n",
       "      <td>click</td>\n",
       "      <td>0.487389</td>\n",
       "    </tr>\n",
       "    <tr>\n",
       "      <th>1398</th>\n",
       "      <td>remov</td>\n",
       "      <td>0.431957</td>\n",
       "    </tr>\n",
       "    <tr>\n",
       "      <th>739</th>\n",
       "      <td>guarante</td>\n",
       "      <td>0.400727</td>\n",
       "    </tr>\n",
       "    <tr>\n",
       "      <th>1796</th>\n",
       "      <td>visit</td>\n",
       "      <td>0.386083</td>\n",
       "    </tr>\n",
       "    <tr>\n",
       "      <th>156</th>\n",
       "      <td>basenumb</td>\n",
       "      <td>0.351535</td>\n",
       "    </tr>\n",
       "    <tr>\n",
       "      <th>477</th>\n",
       "      <td>dollar</td>\n",
       "      <td>0.314385</td>\n",
       "    </tr>\n",
       "    <tr>\n",
       "      <th>1299</th>\n",
       "      <td>price</td>\n",
       "      <td>0.291478</td>\n",
       "    </tr>\n",
       "    <tr>\n",
       "      <th>1852</th>\n",
       "      <td>will</td>\n",
       "      <td>0.289202</td>\n",
       "    </tr>\n",
       "    <tr>\n",
       "      <th>966</th>\n",
       "      <td>lo</td>\n",
       "      <td>0.272873</td>\n",
       "    </tr>\n",
       "  </tbody>\n",
       "</table>\n",
       "</div>"
      ],
      "text/plain": [
       "          Word    Weight\n",
       "1191       our  0.519944\n",
       "298      click  0.487389\n",
       "1398     remov  0.431957\n",
       "739   guarante  0.400727\n",
       "1796     visit  0.386083\n",
       "156   basenumb  0.351535\n",
       "477     dollar  0.314385\n",
       "1299     price  0.291478\n",
       "1852      will  0.289202\n",
       "966         lo  0.272873"
      ]
     },
     "execution_count": 12,
     "metadata": {},
     "output_type": "execute_result"
    }
   ],
   "source": [
    "# Switch key, values of vocab_dict and change to data frame. \n",
    "vocab_dic_1 = {y : x for x, y in vocab_dic.items()}\n",
    "vocab_df = pd.DataFrame(vocab_dic_1, index = [0]).transpose()\n",
    "\n",
    "# Add a new column in data frame with fit coefficients. \n",
    "vocab_df[1] = model.coef_.flatten()\n",
    "vocab_df.columns = ['Word', 'Weight']\n",
    "\n",
    "# Finding the top predictor \n",
    "top_predictor_df = vocab_df.sort_values(by = 'Weight', ascending = False)\n",
    "top_predictor_df.head(10)"
   ]
  },
  {
   "cell_type": "markdown",
   "metadata": {},
   "source": [
    "# Predicting model \n",
    "\n",
    "In this section we check if the model is correctly classifying spam emails. We check on four emails, two of which are spam. "
   ]
  },
  {
   "cell_type": "code",
   "execution_count": 13,
   "metadata": {},
   "outputs": [],
   "source": [
    "email_sample_2 = open('Data/emailSample2.txt').read()\n",
    "spam_sample_2 = open('Data/spamSample2.txt').read()"
   ]
  },
  {
   "cell_type": "code",
   "execution_count": 14,
   "metadata": {},
   "outputs": [],
   "source": [
    "def predict(email_sample, vocab =  vocab_dic):\n",
    "    feature = email_features(email_sample, vocab_dic)\n",
    "    if model.predict(feature.T)[0] == 0:\n",
    "        print('==============================================\\n THIS EMAIL IS NOT SPAM.')\n",
    "    else:\n",
    "        print('==============================================\\n THIS EMAIL IS SPAM.')"
   ]
  },
  {
   "cell_type": "code",
   "execution_count": 15,
   "metadata": {},
   "outputs": [
    {
     "name": "stdout",
     "output_type": "stream",
     "text": [
      "> Anyone knows how much it costs to host a web portal ?\n",
      ">\n",
      "Well, it depends on how many visitors you're expecting.\n",
      "This can be anywhere from less than 10 bucks a month to a couple of $100. \n",
      "You should checkout http://www.rackspace.com/ or perhaps Amazon EC2 \n",
      "if youre running something big..\n",
      "\n",
      "To unsubscribe yourself from this mailing list, send an email to:\n",
      "groupname-unsubscribe@egroups.com\n",
      "\n",
      "\n",
      "==============================================\n",
      " THIS EMAIL IS NOT SPAM.\n"
     ]
    }
   ],
   "source": [
    "print(email_sample)\n",
    "predict(email_sample)"
   ]
  },
  {
   "cell_type": "code",
   "execution_count": 16,
   "metadata": {},
   "outputs": [
    {
     "name": "stdout",
     "output_type": "stream",
     "text": [
      "Do You Want To Make $1000 Or More Per Week?\n",
      "\n",
      "If you are a motivated and qualified individual - I will personally demonstrate to you a system that will make you $1,000 per week or more! This is NOT mlm. Call our 24 hour pre-recorded number to get the details. \n",
      "000-456-789\n",
      "I need people who want to make serious money.  Make the call and get the facts. Invest 2 minutes in yourself now!\n",
      "000-456-789\n",
      "Looking forward to your call and I will introduce you to people like yourself who are currently making $10,000 plus per week!\n",
      "000-456-789\n",
      "\n",
      "3484lJGv6-241lEaN9080lRmS6-271WxHo7524qiyT5-438rjUv5615hQcf0-662eiDB9057dMtVl72\n",
      "==============================================\n",
      " THIS EMAIL IS SPAM.\n"
     ]
    }
   ],
   "source": [
    "print(spam_sample)\n",
    "predict(spam_sample)"
   ]
  },
  {
   "cell_type": "code",
   "execution_count": 17,
   "metadata": {},
   "outputs": [
    {
     "name": "stdout",
     "output_type": "stream",
     "text": [
      "Folks,\n",
      " \n",
      "my first time posting - have a bit of Unix experience, but am new to Linux.\n",
      "\n",
      " \n",
      "Just got a new PC at home - Dell box with Windows XP. Added a second hard disk\n",
      "for Linux. Partitioned the disk and have installed Suse 7.2 from CD, which went\n",
      "fine except it didn't pick up my monitor.\n",
      " \n",
      "I have a Dell branded E151FPp 15\" LCD flat panel monitor and a nVidia GeForce4\n",
      "Ti4200 video card, both of which are probably too new to feature in Suse's default\n",
      "set. I downloaded a driver from the nVidia website and installed it using RPM.\n",
      "Then I ran Sax2 (as was recommended in some postings I found on the net), but\n",
      "it still doesn't feature my video card in the available list. What next?\n",
      " \n",
      "Another problem. I have a Dell branded keyboard and if I hit Caps-Lock twice,\n",
      "the whole machine crashes (in Linux, not Windows) - even the on/off switch is\n",
      "inactive, leaving me to reach for the power cable instead.\n",
      " \n",
      "If anyone can help me in any way with these probs., I'd be really grateful -\n",
      "I've searched the 'net but have run out of ideas.\n",
      " \n",
      "Or should I be going for a different version of Linux such as RedHat? Opinions\n",
      "welcome.\n",
      " \n",
      "Thanks a lot,\n",
      "Peter\n",
      "\n",
      "-- \n",
      "Irish Linux Users' Group: ilug@linux.ie\n",
      "http://www.linux.ie/mailman/listinfo/ilug for (un)subscription information.\n",
      "List maintainer: listmaster@linux.ie\n",
      "\n",
      "\n",
      "\n",
      "==============================================\n",
      " THIS EMAIL IS NOT SPAM.\n"
     ]
    }
   ],
   "source": [
    "print(email_sample_2)\n",
    "predict(email_sample_2)"
   ]
  },
  {
   "cell_type": "code",
   "execution_count": 18,
   "metadata": {},
   "outputs": [
    {
     "name": "stdout",
     "output_type": "stream",
     "text": [
      "Best Buy Viagra Generic Online\n",
      "\n",
      "Viagra 100mg x 60 Pills $125, Free Pills & Reorder Discount, Top Selling 100% Quality & Satisfaction guaranteed!\n",
      "\n",
      "We accept VISA, Master & E-Check Payments, 90000+ Satisfied Customers!\n",
      "http://medphysitcstech.ru\n",
      "\n",
      "\n",
      "\n",
      "==============================================\n",
      " THIS EMAIL IS SPAM.\n"
     ]
    }
   ],
   "source": [
    "print(spam_sample_2)\n",
    "predict(spam_sample_2)"
   ]
  },
  {
   "cell_type": "markdown",
   "metadata": {},
   "source": [
    "# Checking with my own email"
   ]
  },
  {
   "cell_type": "code",
   "execution_count": 19,
   "metadata": {},
   "outputs": [],
   "source": [
    "my_email_1 = open('Data/myEmail1.txt').read()\n",
    "my_email_2 = open('Data/myEmail2.txt').read()"
   ]
  },
  {
   "cell_type": "code",
   "execution_count": 20,
   "metadata": {},
   "outputs": [
    {
     "name": "stdout",
     "output_type": "stream",
     "text": [
      "Share your views and experiences with us\n",
      "\n",
      "Dear Researcher, \n",
      "Growing emphasis on readership and impact is leading researchers to communicate about their work in new ways, to new audiences, from much earlier in the research process. With the support of AIP Publishing and some other publishers, Kudos is leading a study to understand these changes, with a view to providing better support and services. \n",
      "We invite you to take 10 minutes to share your views and experiences with us via an online survey. Survey participants will be entered into a prize drawing for online shopping vouchers. The prize value is £100 (or the equivalent in local currency, where possible). The survey is open until March 31st, 2019. \n",
      "To participate in the survey and enter the prize drawing, please click the button below.\n",
      "Complete the survey today!\n",
      "Many thanks in advance for your contribution! \n",
      "\n",
      "Best wishes, \n",
      "AIP Publishing and The Kudos Team.\n",
      "==============================================\n",
      " THIS EMAIL IS NOT SPAM.\n"
     ]
    }
   ],
   "source": [
    "print(my_email_1)\n",
    "predict(my_email_1)"
   ]
  },
  {
   "cell_type": "code",
   "execution_count": 21,
   "metadata": {},
   "outputs": [
    {
     "name": "stdout",
     "output_type": "stream",
     "text": [
      "We have curated special offer just for you!\n",
      "\n",
      "Dear ,\n",
      "Our Special Offers let you stay in touch with your loved ones for less! Use ultra-fast data to make HD video calls, call your friends & family abroad at unbeatable rates, send unlimited texts & more! \n",
      "Limited time only. For T&C visit www.lycamobile.us?\n",
      "Refer a friend and earn $5 credit!\n",
      "==============================================\n",
      " THIS EMAIL IS SPAM.\n"
     ]
    }
   ],
   "source": [
    "print(my_email_2)\n",
    "predict(my_email_2)"
   ]
  },
  {
   "cell_type": "code",
   "execution_count": null,
   "metadata": {},
   "outputs": [],
   "source": []
  }
 ],
 "metadata": {
  "kernelspec": {
   "display_name": "Python 3",
   "language": "python",
   "name": "python3"
  },
  "language_info": {
   "codemirror_mode": {
    "name": "ipython",
    "version": 3
   },
   "file_extension": ".py",
   "mimetype": "text/x-python",
   "name": "python",
   "nbconvert_exporter": "python",
   "pygments_lexer": "ipython3",
   "version": "3.8.8"
  }
 },
 "nbformat": 4,
 "nbformat_minor": 2
}
